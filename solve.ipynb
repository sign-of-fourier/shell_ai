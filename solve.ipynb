{
 "cells": [
  {
   "cell_type": "markdown",
   "id": "bda468bc-5fb9-4880-89e4-1354d6d70cf3",
   "metadata": {
    "tags": []
   },
   "source": [
    "# Perform Branch and Cut Algorithm \n",
    "Use built in optimizaiton functions to use cuts prioritized by trained Neural UCB model"
   ]
  },
  {
   "cell_type": "code",
   "execution_count": 1,
   "id": "463d9d15-7639-4902-bf49-25f3acf3d9d7",
   "metadata": {
    "tags": []
   },
   "outputs": [],
   "source": [
    "import pyscipopt as pyopt\n",
    "import branch_cut\n",
    "import model\n",
    "import pulp\n",
    "import os\n",
    "class arguments:\n",
    "    def __init__(self):\n",
    "        self.model_path = 'shell.ai/torch_model'\n",
    "        self.ucb_on = True\n",
    "        self.ucb_val_on = True\n",
    "\n",
    "args = arguments()"
   ]
  },
  {
   "cell_type": "markdown",
   "id": "82390400-d2cd-4834-b16d-98749a5293a8",
   "metadata": {},
   "source": [
    "#### Load Trained Model"
   ]
  },
  {
   "cell_type": "code",
   "execution_count": 2,
   "id": "0734c15e-d742-4a8e-bd2f-22958c424e59",
   "metadata": {
    "tags": []
   },
   "outputs": [],
   "source": [
    "scoring = model.NeuralUCB('Neural_UCB', .1, .1, .1, args)"
   ]
  },
  {
   "cell_type": "code",
   "execution_count": 3,
   "id": "fab17fce-37dc-4e6a-bc8b-e01c231adaf6",
   "metadata": {
    "tags": []
   },
   "outputs": [],
   "source": [
    "variables, instance = pulp.LpProblem.fromMPS('total_cost.mps')"
   ]
  },
  {
   "cell_type": "markdown",
   "id": "16a98f85-cb78-4b34-8748-3134f406f6d3",
   "metadata": {
    "tags": []
   },
   "source": [
    "#### Score separtors and pick best one\n",
    "For each separator:\n",
    "1. Load new optimization model\n",
    "2. Add separator\n",
    "3. Configure model with objective function, constraints and separator\n",
    "4. Score Model with loaded separator\n",
    "\n",
    "Choose model with best separator to run mip on at next step"
   ]
  },
  {
   "cell_type": "code",
   "execution_count": 4,
   "id": "8212365e-535b-4118-b36a-a1ae22bc4382",
   "metadata": {
    "tags": []
   },
   "outputs": [
    {
     "name": "stdout",
     "output_type": "stream",
     "text": [
      "separator type: clique, score: 0.789103837\n",
      "separator type: zerohalf, score: 0.0013449886\n",
      "separator type: gomory, score: 0.370551215092\n",
      "\n",
      "Best Beparator clique\n"
     ]
    }
   ],
   "source": [
    "best_separator_score = -1\n",
    "model_path = 'model'\n",
    "\n",
    "cuts = os.listdir(model_path)\n",
    "for separator in cuts:\n",
    "    final_model = pyopt.Model('Shell_ai')\n",
    "    sepa = pyopt.scip.Sepa()\n",
    "    final_model.includeSepa(sepa, model_path, separator)\n",
    "    configured_sepa, configured_model = branch_cut.configure_model(final_model, instance, sepa, separator)\n",
    "    score = scoring.getActionsScores(configured_model)\n",
    "    print(\"separator type: {}, score: {}\".format(separator, score))\n",
    "    if score > best_separator_score:\n",
    "        best_separator_score = score\n",
    "        best_separator = separator\n",
    "\n",
    "print(\"\\nBest Beparator {}\".format(best_separator))"
   ]
  },
  {
   "cell_type": "code",
   "execution_count": 7,
   "id": "0a453d14-006e-4d4d-bfd5-1702e5d639b0",
   "metadata": {
    "tags": []
   },
   "outputs": [
    {
     "name": "stdout",
     "output_type": "stream",
     "text": [
      "Welcome to the CBC MILP Solver \n",
      "Version: 2.10.3 \n",
      "Build Date: Dec 15 2019 \n",
      "\n",
      "command line - /home/ec2-user/anaconda3/envs/pytorch_p310/lib/python3.10/site-packages/pulp/solverdir/cbc/linux/64/cbc /tmp/4dfcab548c364ccdb5edeaeb68ccbad2-pulp.mps -sec 30 -timeMode elapsed -branch -printingOptions all -solution /tmp/4dfcab548c364ccdb5edeaeb68ccbad2-pulp.sol (default strategy 1)\n",
      "At line 2 NAME          MODEL\n",
      "At line 3 ROWS\n",
      "At line 7433 COLUMNS\n",
      "At line 282698 RHS\n",
      "At line 290127 BOUNDS\n",
      "At line 335304 ENDATA\n",
      "Problem MODEL has 7428 rows, 45176 columns and 139736 elements\n",
      "Coin0008I MODEL read with 0 errors\n",
      "seconds was changed from 1e+100 to 30\n",
      "Option for timeMode changed from cpu to elapsed\n",
      "Continuous objective value is 1.78355e+08 - 1.49 seconds\n",
      "Cgl0003I 0 fixed, 7096 tightened bounds, 0 strengthened rows, 0 substitutions\n",
      "Cgl0004I processed model has 7428 rows, 45176 columns (45176 integer (0 of which binary)) and 139736 elements\n",
      "Cbc0031I 256 added rows had average density of 170.65625\n",
      "Cbc0013I At root node, 256 cuts changed objective from 1.7835544e+08 to 1.8638032e+08 in 2 passes\n",
      "Cbc0014I Cut generator 0 (Probing) - 0 row cuts average 0.0 elements, 0 column cuts (0 active)  in 0.042 seconds - new frequency is -100\n",
      "Cbc0014I Cut generator 1 (Gomory) - 160 row cuts average 388.8 elements, 0 column cuts (0 active)  in 0.312 seconds - new frequency is 1\n",
      "Cbc0014I Cut generator 2 (Knapsack) - 0 row cuts average 0.0 elements, 0 column cuts (0 active)  in 0.009 seconds - new frequency is -100\n",
      "Cbc0014I Cut generator 3 (Clique) - 0 row cuts average 0.0 elements, 0 column cuts (0 active)  in 0.001 seconds - new frequency is -100\n",
      "Cbc0014I Cut generator 4 (MixedIntegerRounding2) - 256 row cuts average 170.7 elements, 0 column cuts (0 active)  in 0.027 seconds - new frequency is 1\n",
      "Cbc0014I Cut generator 5 (FlowCover) - 0 row cuts average 0.0 elements, 0 column cuts (0 active)  in 0.011 seconds - new frequency is -100\n",
      "Cbc0014I Cut generator 6 (TwoMirCuts) - 135 row cuts average 168.4 elements, 0 column cuts (0 active)  in 0.327 seconds - new frequency is -100\n",
      "Cbc0014I Cut generator 7 (ZeroHalf) - 1 row cuts average 50.0 elements, 0 column cuts (0 active)  in 0.060 seconds - new frequency is -100\n",
      "Cbc0010I After 0 nodes, 1 on tree, 1e+50 best solution, best possible 1.8638032e+08 (5.92 seconds)\n",
      "Cbc0020I Exiting on maximum time\n",
      "Cbc0005I Partial search - best objective 1e+50 (best possible 1.8638032e+08), took 1020 iterations and 20 nodes (30.21 seconds)\n",
      "Cbc0032I Strong branching done 464 times (8382 iterations), fathomed 0 nodes and fixed 0 variables\n",
      "Cbc0035I Maximum depth 16, 0 variables fixed on reduced cost\n",
      "Cuts at root node changed objective from 1.78355e+08 to 1.8638e+08\n",
      "Probing was tried 2 times and created 0 cuts of which 0 were active after adding rounds of cuts (0.042 seconds)\n",
      "Gomory was tried 11 times and created 160 cuts of which 0 were active after adding rounds of cuts (0.689 seconds)\n",
      "Knapsack was tried 2 times and created 0 cuts of which 0 were active after adding rounds of cuts (0.009 seconds)\n",
      "Clique was tried 2 times and created 0 cuts of which 0 were active after adding rounds of cuts (0.001 seconds)\n",
      "MixedIntegerRounding2 was tried 11 times and created 256 cuts of which 0 were active after adding rounds of cuts (0.139 seconds)\n",
      "FlowCover was tried 2 times and created 0 cuts of which 0 were active after adding rounds of cuts (0.011 seconds)\n",
      "TwoMirCuts was tried 2 times and created 135 cuts of which 0 were active after adding rounds of cuts (0.327 seconds)\n",
      "ZeroHalf was tried 1 times and created 1 cuts of which 0 were active after adding rounds of cuts (0.060 seconds)\n",
      "\n",
      "Result - Stopped on time limit\n",
      "\n",
      "No feasible solution found\n",
      "Lower bound:                    186380320.137\n",
      "Enumerated nodes:               20\n",
      "Total iterations:               1020\n",
      "Time (CPU seconds):             29.40\n",
      "Time (Wallclock seconds):       30.22\n",
      "\n",
      "Option for printingOptions changed from normal to all\n",
      "Total time (CPU seconds):       29.56   (Wallclock seconds):       30.39\n",
      "\n",
      "Not Solved\n"
     ]
    }
   ],
   "source": [
    "final_model = pyopt.Model('Shell_ai')\n",
    "final_model.includeSepa(pyopt.scip.Sepa(), model_path, best_separator)\n",
    "configured_sepa, configured_model = branch_cut.configure_model(final_model, instance, sepa, best_separator)\n",
    "\n",
    "solution = branch_cut.solve(instance, configured_model, time_limit=30)"
   ]
  },
  {
   "cell_type": "code",
   "execution_count": null,
   "id": "9105f4e8-4a47-4599-ba94-8f2ec82ba3b1",
   "metadata": {},
   "outputs": [],
   "source": []
  },
  {
   "cell_type": "code",
   "execution_count": null,
   "id": "601f6adb-3a6f-44d9-9345-593b0c9c712a",
   "metadata": {},
   "outputs": [],
   "source": []
  }
 ],
 "metadata": {
  "kernelspec": {
   "display_name": "conda_pytorch_p310",
   "language": "python",
   "name": "conda_pytorch_p310"
  },
  "language_info": {
   "codemirror_mode": {
    "name": "ipython",
    "version": 3
   },
   "file_extension": ".py",
   "mimetype": "text/x-python",
   "name": "python",
   "nbconvert_exporter": "python",
   "pygments_lexer": "ipython3",
   "version": "3.10.14"
  }
 },
 "nbformat": 4,
 "nbformat_minor": 5
}
