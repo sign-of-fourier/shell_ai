{
 "cells": [
  {
   "cell_type": "code",
   "execution_count": 1,
   "id": "9e2056c6",
   "metadata": {},
   "outputs": [],
   "source": [
    "import pandas as pd\n",
    "import numpy as np\n",
    "import random\n",
    "from pulp import *\n",
    "import math"
   ]
  },
  {
   "cell_type": "markdown",
   "id": "64fccd52",
   "metadata": {},
   "source": [
    "## Data Preparation"
   ]
  },
  {
   "cell_type": "markdown",
   "id": "b7ec11a9",
   "metadata": {},
   "source": [
    "### Helper functions to structure data into other formats\n"
   ]
  },
  {
   "cell_type": "code",
   "execution_count": 2,
   "id": "894ebefa",
   "metadata": {},
   "outputs": [],
   "source": [
    "def get_fuel_cost(p):\n",
    "    annual_fuel_cost = 0\n",
    "    for k in p.keys():\n",
    "        details = k.split('_')\n",
    "        annual_fuel_cost = annual_fuel_cost + consumption['_'.join(details[1:4]) + '_' + details[7]]*\\\n",
    "        fuel_cost[details[5] + '_' + details[7]]*veh_range['_'.join(details[1:4])] * p[k] \n",
    "    return annual_fuel_cost\n",
    "\n",
    "def get_emissions_cost(p):\n",
    "    annual_emissions = []\n",
    "    dbg = []\n",
    "    for y in years[0:5]:\n",
    "        emit = 0        \n",
    "        #x_dbg = 0\n",
    "        for k in p.keys():\n",
    "            details = k.split('_')\n",
    "            if details[2] in fuel_adj.keys():\n",
    "                adj = fuel_adj[details[2]][details[6]]\n",
    "            else:\n",
    "                adj = 1\n",
    "            if details[5] == str(y):\n",
    "                emit += consumption['_'.join(details[1:4]) + '_' + details[7]]*\\\n",
    "                fuel_emissions[details[5] + '_' + details[7]]*veh_range['_'.join(details[1:4])] * p[k] * adj\n",
    "                if emit < 0:\n",
    "                    print(\"negative emissions\")\n",
    "                \n",
    "        annual_emissions.append(emit)\n",
    "    return annual_emissions"
   ]
  },
  {
   "cell_type": "code",
   "execution_count": 3,
   "id": "e34f32d3",
   "metadata": {},
   "outputs": [],
   "source": [
    "def get_veh_cost(p):\n",
    "    total_veh_cost = 0\n",
    "    for k in p.keys():\n",
    "        details = k.split('_')\n",
    "        total_veh_cost = total_veh_cost + vehicle_cost['_'.join(details[1:5])] * p[k]\n",
    "    return total_veh_cost"
   ]
  },
  {
   "cell_type": "code",
   "execution_count": 4,
   "id": "9fa486f5",
   "metadata": {},
   "outputs": [],
   "source": [
    "# demand\n",
    "def apply_demand_constraint(linear_program, availability, size):\n",
    "    for y in years:\n",
    "        for demand_bucket in ['D1', 'D2', 'D3', 'D4']:\n",
    "            df = availability[(availability['demand_year'] == y) & (availability['Size'] == size) & \n",
    "                              (availability['demand_distance'] == demand_bucket)]\n",
    "            if df.shape[0] == 0:\n",
    "                print(y, size, demand_bucket)\n",
    "                return df\n",
    "            specific_demand = df['Demand (km)'].iloc[0]\n",
    "            constraint = []\n",
    "            for _id, yr_range, u, s, f in zip(df['ID'], df['Yearly range (km)'], \n",
    "                                              df['usage_distance'], df['sell_year'], df['Fuel']):\n",
    "                constraint.append(usage_variables['_'.join([_id, str(s), str(y), u, f])] * yr_range)\n",
    "            linear_program += lpSum(x for x in constraint) >= specific_demand \n",
    "    return linear_program"
   ]
  },
  {
   "cell_type": "code",
   "execution_count": 5,
   "id": "9cb2c408",
   "metadata": {},
   "outputs": [],
   "source": [
    "\n",
    "def create_use_df(fuel_plan):\n",
    "    year = []\n",
    "    vid = []\n",
    "    num_veh = []\n",
    "    _fuel = []\n",
    "    dbucket = []\n",
    "    vdistance = []\n",
    "    for y in years:\n",
    "        for v in fuel_plan.keys():\n",
    "            d = v.split('_')\n",
    "            if d[5] == str(y):\n",
    "                year.append(y)\n",
    "                vid.append('_'.join(d[1:4]))\n",
    "                num_veh.append(fuel_plan[v])\n",
    "                _fuel.append(d[7])\n",
    "                dbucket.append(d[6])\n",
    "                vdistance.append(veh_range['_'.join(d[1:4])])\n",
    "    use_df = pd.DataFrame({'Year': year,\n",
    "                           'ID': vid,\n",
    "                           'Num_Vehicles': num_veh,\n",
    "                           'Type': 'Use',\n",
    "                           'Fuel': _fuel,\n",
    "                           'Distance_bucket': dbucket,\n",
    "                           'Distance_per_vehicle(km)': vdistance}).sort_values('Year')#.to_csv('submission.csv')\n",
    "    return use_df"
   ]
  },
  {
   "cell_type": "code",
   "execution_count": 6,
   "id": "4cc31e15",
   "metadata": {},
   "outputs": [],
   "source": [
    "def apply_limited_sales_constraint(linear_program, except_pct, other_pct):\n",
    "    # limited sales\n",
    "    for y in years:\n",
    "        sold_vehicles = []\n",
    "        in_service = []\n",
    "\n",
    "        for v in purchase_objective.keys():\n",
    "            details = v.split('_')\n",
    "            if int(details[3]) == y:\n",
    "                sold_vehicles.append(v)\n",
    "            elif (int(details[3]) > y) & (int(details[2]) <= y):\n",
    "                in_service.append(v)\n",
    "        if y in except_pct.keys():\n",
    "            linear_program += lpSum(purchase_variables[x] for x in sold_vehicles)*(1-except_pct[y])\\\n",
    "            <= lpSum(purchase_variables[x] for x in in_service)*except_pct[y]\n",
    "        else:\n",
    "            linear_program += lpSum(purchase_variables[x] for x in sold_vehicles)*(1-other_pct) <= lpSum(purchase_variables[x] for x in in_service)*other_pct\n",
    "    return linear_program"
   ]
  },
  {
   "cell_type": "code",
   "execution_count": 7,
   "id": "425be8b5",
   "metadata": {},
   "outputs": [],
   "source": [
    "def create_buy_sell_dfs(purchase_plan):\n",
    "    # buy and sell df\n",
    "    buy_year = []\n",
    "    sell_year = []\n",
    "    vid = []\n",
    "    n_veh = []\n",
    "    for p in purchase_plan.keys():\n",
    "        details = p.split('_')\n",
    "        buy_year.append(details[3])\n",
    "        sell_year.append(details[4])\n",
    "        n_veh.append(purchase_plan[p])\n",
    "        vid.append('_'.join(details[1:4]))\n",
    "\n",
    "    buy_df = pd.DataFrame({'Year': [int(y) for y in buy_year],\n",
    "                           'ID': vid,\n",
    "                           'Num_Vehicles': n_veh})\n",
    "\n",
    "    sell_df = pd.DataFrame({'Year': [int(y) for y in sell_year],\n",
    "                           'ID': vid,\n",
    "                           'Num_Vehicles': n_veh})\n",
    "    sell_df = sell_df[sell_df['Year'] < 2039]\n",
    "\n",
    "    buy_df = buy_df.groupby(['Year', 'ID'], as_index=False).sum()\n",
    "    sell_df = sell_df.groupby(['Year', 'ID'], as_index=False).sum()\n",
    "    buy_df['Type'] = 'Buy'\n",
    "    buy_df['Distance_per_vehicle(km)'] = 0\n",
    "    sell_df['Type'] = 'Sell'\n",
    "    sell_df['Distance_per_vehicle(km)'] = 0\n",
    "    return buy_df, sell_df\n"
   ]
  },
  {
   "cell_type": "code",
   "execution_count": 8,
   "id": "d7988889",
   "metadata": {},
   "outputs": [],
   "source": [
    "def pct_of_inventory(buy_df, sell_df):\n",
    "    buy_sell = buy_df[['Year', 'Num_Vehicles']].groupby(['Year'], as_index=False).sum().merge(sell_df[['Year', 'Num_Vehicles']].groupby(['Year'], as_index=False).sum(), on='Year') \n",
    "    running_total = 0\n",
    "    running_column = []\n",
    "    running_pct = []\n",
    "    for b, s in zip(buy_sell['Num_Vehicles_x'], buy_sell['Num_Vehicles_y']):\n",
    "        running_pct.append(s/(running_total+b))\n",
    "        running_total = running_total + b - s # end of year\n",
    "        running_column.append(running_total)\n",
    "    buy_sell['running_total'] = running_column \n",
    "    buy_sell['pct'] = running_pct\n",
    "    return buy_sell"
   ]
  },
  {
   "cell_type": "code",
   "execution_count": 9,
   "id": "78d62c8b",
   "metadata": {},
   "outputs": [],
   "source": [
    "def smart_pick(dictionary, k):\n",
    "    if k in dictionary:\n",
    "        return dictionary[k]\n",
    "    else:\n",
    "        return 0\n",
    "    \n",
    "def vehicle_running_total(buy_df, sell_df, use_df, dbg=None):\n",
    "    dfs = []\n",
    "    df = pd.DataFrame({'Year':years})\n",
    "    \n",
    "    for v, n in zip(buy_df['ID'], buy_df['Num_Vehicles']):\n",
    "        \n",
    "        bdf = buy_df[(buy_df['ID'] == v)].copy()              # this should just be 1\n",
    "        sdf = sell_df[(sell_df['ID'] == v)].copy()           \n",
    "        \n",
    "        edf = use_df[(use_df['ID'] == v)].copy()\n",
    "        edf = edf[['ID', 'Year', 'Num_Vehicles']].groupby(['ID', 'Year'], as_index=False).sum()\n",
    "        \n",
    "        buy_dict = {}\n",
    "        sell_dict = {}\n",
    "        expected_dict = {}\n",
    "        for y, n in zip(bdf['Year'],bdf['Num_Vehicles']):\n",
    "            buy_dict[y] = n\n",
    "        for y, n in zip(sdf['Year'],sdf['Num_Vehicles']):\n",
    "            sell_dict[y] = n\n",
    "        for y, n in zip(edf['Year'],edf['Num_Vehicles']):\n",
    "            expected_dict[y] = n\n",
    "\n",
    "        running_total = 0\n",
    "        buy = []\n",
    "        sell = []\n",
    "        available_beg = []\n",
    "        available_end = []\n",
    "        expected = []\n",
    "        difference = []\n",
    "        for y in years:\n",
    "            \n",
    "            buy_amt = smart_pick(buy_dict, y)\n",
    "            buy.append(buy_amt)\n",
    "            sell_amt = smart_pick(sell_dict, y)\n",
    "            sell.append(sell_amt)\n",
    "            expected_amt = smart_pick(expected_dict, y)\n",
    "            expected.append(expected_amt)\n",
    "            difference.append(running_total + buy_amt - expected_amt)\n",
    "            available_beg.append(running_total + buy_amt)\n",
    "            running_total += buy_amt - sell_amt\n",
    "            available_end.append(running_total)\n",
    "            \n",
    "        if dbg:\n",
    "            if dbg == v:\n",
    "                return pd.DataFrame({'Year': years, v+'_beg': available_beg, v+'_end': available_end,\n",
    "                                     'buy': buy, 'sell': sell, v+'_xpd':expected})\n",
    "                \n",
    "        df = df.merge(pd.DataFrame({'Year': years, v: difference}), on='Year')\n",
    "        \n",
    "        df.set_index('Year', inplace=True)\n",
    "        \n",
    "    return df.T\n",
    "            #    buy_total = buy_df[['ID', 'Year', 'Num_Vehicles']].groupby(['ID', 'Year'], as_index=False).sum()\n",
    "    "
   ]
  },
  {
   "cell_type": "code",
   "execution_count": 10,
   "id": "86c09f35",
   "metadata": {},
   "outputs": [],
   "source": [
    "def available_check(available, purchase_plan, dbg=None):\n",
    "    models = []\n",
    "    needed_years = []\n",
    "    needed_amt = []\n",
    "    new_purchase_plan2 = purchase_plan.copy()\n",
    "    for m, inventory in zip(available.index, available.to_numpy()):\n",
    "\n",
    "        needed = [y for y, inv in zip(years, inventory) if inv < 0 ]\n",
    "        amt = [abs(inv) for y, inv in zip(years, inventory) if inv < 0 ]\n",
    "        if len(needed) > 0:\n",
    "            print('need {}'.format(m))\n",
    "\n",
    "            for y, a in zip(needed,amt):        \n",
    "                models.append(m)\n",
    "                needed_years.append(y)\n",
    "                needed_amt.append(a)\n",
    "                options = []\n",
    "                for p in new_purchase_plan2.keys():\n",
    "                    d = p.split('_')\n",
    "                    d2 = m.split('_')\n",
    "                    if '_'.join(d[1:4]) == '_'.join(d2[0:3]):\n",
    "                        if int(d[4]) >= y:\n",
    "                            options.append(p)\n",
    "                            print(\"considering {} {} {} {}\".format(p, d[3], d[4], y))\n",
    "\n",
    "                if len(options) == 0:\n",
    "                    print('this is a bigger problem')\n",
    "                    print(y, a, m)\n",
    "                new_vehicle = options[random.randint(0, len(options)-1)]\n",
    "                new_purchase_plan2[new_vehicle] += a\n",
    "                print(new_vehicle, new_purchase_plan2[new_vehicle], a)\n",
    "\n",
    "    return pd.DataFrame({'ID': models, 'Years': needed_years, 'Amt': needed_amt}), new_purchase_plan2"
   ]
  },
  {
   "cell_type": "code",
   "execution_count": 11,
   "id": "7c7b0739",
   "metadata": {},
   "outputs": [],
   "source": [
    "def update_fuel_adj(verify_demand):\n",
    "    # use miles driven instead of range for fuel\n",
    "    fuel_adj = {}\n",
    "    for size in range(4):\n",
    "        fuel_adj['S' + str(size+1)] = {}\n",
    "    for s, d, dmnd, cpcty in zip(verify_demand['Size'], verify_demand['Distance'], verify_demand['Demand (km)'], \n",
    "                                 verify_demand['capacity']):\n",
    "        fuel_adj[s][d] = dmnd/cpcty\n",
    "    return fuel_adj"
   ]
  },
  {
   "cell_type": "markdown",
   "id": "31c866c9",
   "metadata": {},
   "source": [
    "### Import Data"
   ]
  },
  {
   "cell_type": "code",
   "execution_count": 12,
   "id": "20f8898f",
   "metadata": {},
   "outputs": [],
   "source": [
    "path = 'c:\\\\users\\\\mark113\\\\desktop\\\\jupyter\\\\shell\\\\'\n",
    "demand = pd.read_csv(path + 'dataset\\\\demand.csv')\n",
    "fuels = pd.read_csv(path + 'dataset\\\\fuels.csv')\n",
    "cost_profiles = pd.read_csv(path + 'dataset\\\\cost_profiles.csv')\n",
    "vehicles = pd.read_csv(path + 'dataset\\\\vehicles.csv')\n",
    "vehicles_fuels = pd.read_csv(path + 'dataset\\\\vehicles_fuels.csv')\n",
    "carbon_df = pd.read_csv(path + 'dataset\\\\carbon_emissions.csv')"
   ]
  },
  {
   "cell_type": "code",
   "execution_count": 13,
   "id": "1efba030",
   "metadata": {},
   "outputs": [],
   "source": [
    "max_year = 2038\n",
    "years = [y for y in range(2023, max_year+1)]\n",
    "max_ownership = 10"
   ]
  },
  {
   "cell_type": "code",
   "execution_count": 14,
   "id": "f658babf",
   "metadata": {},
   "outputs": [],
   "source": [
    "emissions_limit = {}\n",
    "for e, y in zip(carbon_df['Carbon emission CO2/kg'], carbon_df['Year']):\n",
    "    emissions_limit[y] = e"
   ]
  },
  {
   "cell_type": "code",
   "execution_count": 15,
   "id": "08f3c4c5",
   "metadata": {},
   "outputs": [],
   "source": [
    "# build some dictionaries for easier reference\n",
    "fuel_adj = {}\n",
    "\n",
    "consumption = {}\n",
    "for v, f, c in zip(vehicles_fuels['ID'], vehicles_fuels['Fuel'], vehicles_fuels['Consumption (unit_fuel/km)']):\n",
    "    consumption[v+'_'+f] = c\n",
    "fuel_cost = {}\n",
    "fuel_emissions = {}\n",
    "for f, y, e, c in zip(fuels['Fuel'], fuels['Year'], fuels['Emissions (CO2/unit_fuel)'], fuels['Cost ($/unit_fuel)']):\n",
    "    fuel_cost[str(y)+'_'+f] = c\n",
    "    fuel_emissions[str(y)+'_'+f] = e     \n",
    "veh_range = {}\n",
    "for v, r in zip(vehicles['ID'], vehicles['Yearly range (km)']):\n",
    "    veh_range[v] = r"
   ]
  },
  {
   "cell_type": "code",
   "execution_count": 16,
   "id": "65628eda",
   "metadata": {},
   "outputs": [
    {
     "data": {
      "text/html": [
       "<div>\n",
       "<style scoped>\n",
       "    .dataframe tbody tr th:only-of-type {\n",
       "        vertical-align: middle;\n",
       "    }\n",
       "\n",
       "    .dataframe tbody tr th {\n",
       "        vertical-align: top;\n",
       "    }\n",
       "\n",
       "    .dataframe thead th {\n",
       "        text-align: right;\n",
       "    }\n",
       "</style>\n",
       "<table border=\"1\" class=\"dataframe\">\n",
       "  <thead>\n",
       "    <tr style=\"text-align: right;\">\n",
       "      <th></th>\n",
       "      <th>ID</th>\n",
       "      <th>Vehicle</th>\n",
       "      <th>Size</th>\n",
       "      <th>Year</th>\n",
       "      <th>Cost ($)</th>\n",
       "      <th>Yearly range (km)</th>\n",
       "      <th>Distance</th>\n",
       "      <th>usage_distance</th>\n",
       "      <th>sell_year</th>\n",
       "    </tr>\n",
       "  </thead>\n",
       "  <tbody>\n",
       "    <tr>\n",
       "      <th>179</th>\n",
       "      <td>LNG_S3_2026</td>\n",
       "      <td>LNG</td>\n",
       "      <td>S3</td>\n",
       "      <td>2026</td>\n",
       "      <td>165150</td>\n",
       "      <td>73000</td>\n",
       "      <td>D4</td>\n",
       "      <td>D1</td>\n",
       "      <td>2031</td>\n",
       "    </tr>\n",
       "    <tr>\n",
       "      <th>67</th>\n",
       "      <td>Diesel_S1_2026</td>\n",
       "      <td>Diesel</td>\n",
       "      <td>S1</td>\n",
       "      <td>2026</td>\n",
       "      <td>92881</td>\n",
       "      <td>102000</td>\n",
       "      <td>D4</td>\n",
       "      <td>D1</td>\n",
       "      <td>2032</td>\n",
       "    </tr>\n",
       "    <tr>\n",
       "      <th>83</th>\n",
       "      <td>Diesel_S2_2026</td>\n",
       "      <td>Diesel</td>\n",
       "      <td>S2</td>\n",
       "      <td>2026</td>\n",
       "      <td>113643</td>\n",
       "      <td>106000</td>\n",
       "      <td>D4</td>\n",
       "      <td>D1</td>\n",
       "      <td>2032</td>\n",
       "    </tr>\n",
       "    <tr>\n",
       "      <th>99</th>\n",
       "      <td>Diesel_S4_2026</td>\n",
       "      <td>Diesel</td>\n",
       "      <td>S4</td>\n",
       "      <td>2026</td>\n",
       "      <td>165299</td>\n",
       "      <td>118000</td>\n",
       "      <td>D4</td>\n",
       "      <td>D1</td>\n",
       "      <td>2032</td>\n",
       "    </tr>\n",
       "    <tr>\n",
       "      <th>115</th>\n",
       "      <td>Diesel_S3_2026</td>\n",
       "      <td>Diesel</td>\n",
       "      <td>S3</td>\n",
       "      <td>2026</td>\n",
       "      <td>129140</td>\n",
       "      <td>73000</td>\n",
       "      <td>D4</td>\n",
       "      <td>D1</td>\n",
       "      <td>2032</td>\n",
       "    </tr>\n",
       "  </tbody>\n",
       "</table>\n",
       "</div>"
      ],
      "text/plain": [
       "                 ID Vehicle Size  Year  Cost ($)  Yearly range (km) Distance  \\\n",
       "179     LNG_S3_2026     LNG   S3  2026    165150              73000       D4   \n",
       "67   Diesel_S1_2026  Diesel   S1  2026     92881             102000       D4   \n",
       "83   Diesel_S2_2026  Diesel   S2  2026    113643             106000       D4   \n",
       "99   Diesel_S4_2026  Diesel   S4  2026    165299             118000       D4   \n",
       "115  Diesel_S3_2026  Diesel   S3  2026    129140              73000       D4   \n",
       "\n",
       "    usage_distance  sell_year  \n",
       "179             D1       2031  \n",
       "67              D1       2032  \n",
       "83              D1       2032  \n",
       "99              D1       2032  \n",
       "115             D1       2032  "
      ]
     },
     "execution_count": 16,
     "metadata": {},
     "output_type": "execute_result"
    }
   ],
   "source": [
    "vehicle_usage = []\n",
    "for d in ['D1', 'D2', 'D3', 'D4']:\n",
    "    for u in range(int(d[1])):\n",
    "        for year in years:\n",
    "            for y in range(max_ownership):\n",
    "                df = vehicles[(vehicles['Distance']==d) & (vehicles['Year'] == year)].copy()\n",
    "                if df.shape[0] > 0:\n",
    "                    df['usage_distance'] = 'D' + str(u+1)\n",
    "                    df['sell_year'] = df['Year'] + y\n",
    "                    vehicle_usage.append(df.copy())\n",
    "        \n",
    "V = pd.concat(vehicle_usage)\n",
    "V = V[V['sell_year'] <= (max_year+1)]\n",
    "V.head(1000).tail()\n"
   ]
  },
  {
   "cell_type": "code",
   "execution_count": 17,
   "id": "506b8197",
   "metadata": {},
   "outputs": [],
   "source": [
    "vehicles_df = V.merge(vehicles_fuels[['ID', 'Fuel']], on='ID')"
   ]
  },
  {
   "cell_type": "code",
   "execution_count": 18,
   "id": "215f0a51",
   "metadata": {},
   "outputs": [],
   "source": [
    "ownership_costs = [.06, .09, .12, .15, .18, .21, .24, .27, .3, .33]\n",
    "accum_own_cost = [np.sum(ownership_costs[0:(x+1)]) for x in range(max_ownership)]\n",
    "resale_cost = [.9, .8, .7, .6, .5, .4, .3, .3, .3, .3]"
   ]
  },
  {
   "cell_type": "code",
   "execution_count": 19,
   "id": "ea932266",
   "metadata": {},
   "outputs": [],
   "source": [
    "# 1. calculate vehcile cost\n",
    "# 2. join demand to vehicles based on what's available for the demand year\n",
    "\n",
    "vehicles_df.columns = ['ID', 'Vehicle', 'Size', 'vehicle_year', 'Cost ($)', 'Yearly range (km)', 'vehicle_distance', \n",
    "                       'usage_distance', 'sell_year', 'Fuel']\n",
    "vehicle_cost = {}\n",
    "for v, cost in zip(vehicles['ID'], vehicles['Cost ($)']):\n",
    "    for yr_sold in range(max_ownership):\n",
    "        if (int(v[-4:]) + yr_sold) > max_year:\n",
    "            resale = 0\n",
    "        else:\n",
    "            resale = resale_cost[yr_sold]\n",
    "        vehicle_cost[v + '_' + str(int(v[-4:])+yr_sold)] = cost *(1+accum_own_cost[yr_sold] - resale)\n",
    "availability = demand.merge(vehicles_df, left_on=['Size', 'Distance'], right_on=['Size', 'usage_distance'])  \n",
    "availability.columns = ['demand_year', 'Size', 'demand_distance', 'Demand (km)', 'ID', 'Vehicle', 'vehicle_year', \n",
    "                        'Cost ($)', 'Yearly range (km)', 'vehicle_distance', 'usage_distance', 'sell_year', 'Fuel']\n",
    "availability = availability[(availability['vehicle_year'] <= availability['demand_year']) & \n",
    "                            ((availability['sell_year']) >= availability['demand_year'])] "
   ]
  },
  {
   "cell_type": "code",
   "execution_count": 20,
   "id": "81d93fcc",
   "metadata": {},
   "outputs": [
    {
     "data": {
      "text/plain": [
       "(11900, 10)"
      ]
     },
     "execution_count": 20,
     "metadata": {},
     "output_type": "execute_result"
    }
   ],
   "source": [
    "veh_fuel_combo = availability.copy()\n",
    "veh_fuel_combo['distance_integer'] = [int(vd[1]) for vd in veh_fuel_combo['vehicle_distance']]\n",
    "veh_fuel_combo = veh_fuel_combo.drop(['usage_distance', 'demand_distance', 'vehicle_distance', 'Demand (km)'], axis=1).drop_duplicates()\n",
    "veh_fuel_combo.shape"
   ]
  },
  {
   "cell_type": "markdown",
   "id": "228a716f",
   "metadata": {},
   "source": [
    "### Check for \"dominance\"\n",
    "For the same buy, sell year, size, distance group\n",
    "one vehicle has better fuel cost, fuel emissions for every usage year and better\n",
    "vehicle cost than another, then it completely dominates that vehicle"
   ]
  },
  {
   "cell_type": "code",
   "execution_count": null,
   "id": "593aeaee",
   "metadata": {},
   "outputs": [],
   "source": [
    "\n",
    "dominated_id = []\n",
    "dominated_sell_yr = []\n",
    "dominated_fuel = []\n",
    "for beg_yr in years:\n",
    "    for end_yr in [beg_yr+1, beg_yr+2]:\n",
    "        for db in ['D1', 'D2', 'D3', 'D4']:\n",
    "            for sb in ['S1', 'S2', 'S3', 'S4']:\n",
    "                vid_for_df = []\n",
    "                sell_year_for_df = []\n",
    "                fuel_for_df = []\n",
    "                fuel_value = []\n",
    "                e_value = []\n",
    "                v_cost_for_df = []\n",
    "                vd_df = []\n",
    "                df = veh_fuel_combo[(veh_fuel_combo['vehicle_year']==beg_yr) & (veh_fuel_combo['sell_year']==end_yr) & \n",
    "                                    (veh_fuel_combo['Size']==sb)]\n",
    "                for v in df['ID'].unique():\n",
    "                    single_df = df[df['ID']==v]\n",
    "\n",
    "                    for f in single_df['Fuel'].unique():\n",
    "                        v_cost_for_df.append(vehicle_cost[v+'_'+str(end_yr)])\n",
    "                        single_fuel_df = single_df[single_df['Fuel'] == f]\n",
    "                        vid_for_df.append(v)\n",
    "                        sell_year_for_df.append(end_yr)\n",
    "\n",
    "                        fcost = sum([fuel_cost[str(dy)+'_'+f]*consumption[v+'_'+f]*veh_range[v]\n",
    "                                     for dy in single_fuel_df['demand_year']])\n",
    "                        ecost = sum([fuel_emissions[str(dy)+'_'+f]*consumption[v+'_'+f] for dy in single_fuel_df['demand_year']])\n",
    "                        fuel_for_df.append(f)\n",
    "                        fuel_value.append(fcost)\n",
    "                        e_value.append(ecost)\n",
    "                        vd_df.append(single_fuel_df['distance_integer'].iloc[0])\n",
    "\n",
    "\n",
    "                comparison = pd.DataFrame({'ID': vid_for_df, 'fuel_value': fuel_value, 'emissions_value': e_value, \n",
    "                                           'sell_year': sell_year_for_df, 'vehicle_cost': v_cost_for_df,\n",
    "                                          'idist': vd_df, 'fuel': fuel_for_df})\n",
    "                comparison['total_cost'] = [x+y for x, y in zip(comparison['fuel_value'], comparison['vehicle_cost'])]\n",
    "\n",
    "                for a in range(comparison.shape[0]-1):\n",
    "                    for b in range(a+1, comparison.shape[0]):\n",
    "                        v1, fv1, e1, s1, vc1, d1, f1, tc1 = comparison.iloc[a]\n",
    "                        v2, fv2, e2, s2, vc2, d2, f2, tc2 = comparison.iloc[b]\n",
    "                        if (e1 >= e2) & (tc1 >= tc2) & (d1 <= d2):\n",
    "                            print(\"1 {} {} {} {}\".format(v1, v2, f1, f2))\n",
    "                            dominated_id.append(v1)\n",
    "                            dominated_sell_yr.append(end_yr)\n",
    "                            dominated_fuel.append(f1)\n",
    "                        elif (e1 <= e2) & (tc1 <= tc2) & (d1 >= d2):\n",
    "                            print(\"2 {} {} {} {}\".format(v1, v2, f1, f2))\n",
    "                            if (v2 == 'LNG_S4_2032') & (f1 == 'Electricity') & (f2 == 'LNG'):\n",
    "                                ref_df = comparison\n",
    "                            dominated_id.append(v2)\n",
    "                            dominated_sell_yr.append(end_yr)\n",
    "                            dominated_fuel.append(f2)\n",
    "                            \n"
   ]
  },
  {
   "cell_type": "code",
   "execution_count": 22,
   "id": "f4595594",
   "metadata": {},
   "outputs": [
    {
     "name": "stdout",
     "output_type": "stream",
     "text": [
      "(43688, 14)\n",
      "(40388, 14)\n"
     ]
    }
   ],
   "source": [
    "dominated_df = pd.DataFrame({'ID': dominated_id, 'sell_year': dominated_sell_yr, 'Fuel': dominated_fuel})\n",
    "dominated_df['dominated'] = 1\n",
    "dominant_availability = availability.merge(dominated_df.drop_duplicates(), how='left', on=['ID', 'sell_year', 'Fuel'])\n",
    "print(dominant_availability.shape)\n",
    "dominant_availability = dominant_availability[dominant_availability['dominated'].isna()]\n",
    "print(dominant_availability.shape)"
   ]
  },
  {
   "cell_type": "markdown",
   "id": "b4174d9e",
   "metadata": {},
   "source": [
    "### Create variable names\n",
    "- Purchase variables: ID, purchase year, sell year\n",
    "- Usage variables: ID, purchase year, sell year, size, distance category, fuel type, demand year\n",
    "- Group usage variables by purchase variables"
   ]
  },
  {
   "cell_type": "code",
   "execution_count": 23,
   "id": "db9b1cad",
   "metadata": {},
   "outputs": [
    {
     "data": {
      "text/plain": [
       "40388"
      ]
     },
     "execution_count": 23,
     "metadata": {},
     "output_type": "execute_result"
    }
   ],
   "source": [
    "usage_variable_names = []\n",
    "purchase_objective = {}\n",
    "fuel_consumption_objective = {}\n",
    "\n",
    "for v in vehicles['ID']:\n",
    "    df_v = dominant_availability[dominant_availability['ID'] == v]\n",
    "\n",
    "    for s in df_v['sell_year'].unique():\n",
    "        df = df_v[df_v['sell_year'] == s]\n",
    "\n",
    "        for dy in df['demand_year'].unique():\n",
    "            \n",
    "            df_y = df[df['demand_year'] == dy]\n",
    "            purchase_group =\\\n",
    "            ['_'.join([v, str(s), str(dy), ud, f]) for ud, f in zip(df_y['usage_distance'], df_y['Fuel'])]\n",
    "            usage_variable_names = usage_variable_names + purchase_group\n",
    "            if v+'_'+str(s) in purchase_objective.keys():\n",
    "                purchase_objective[v+'_'+str(s)].append(purchase_group)\n",
    "            else:\n",
    "                purchase_objective[v+'_'+str(s)] = [purchase_group]\n",
    "    for d in df_v['demand_year'].unique():\n",
    "        for f in df_v['Fuel'].unique():\n",
    "            df = df_v[(df_v['demand_year'] == d) & (df_v['Fuel'] == f)]\n",
    "            fuel_consumption_objective[v+'_'+str(d)+'_'+f] =\\\n",
    "            ['_'.join([v, str(s), str(d), u, f])  for s, u in zip(df['sell_year'], df['usage_distance'])]\n",
    "\n",
    "len(usage_variable_names)            "
   ]
  },
  {
   "cell_type": "markdown",
   "id": "37a624a6",
   "metadata": {},
   "source": [
    "### Objective Function "
   ]
  },
  {
   "cell_type": "code",
   "execution_count": 24,
   "id": "d11bd5da",
   "metadata": {},
   "outputs": [],
   "source": [
    "total_cost = LpProblem(\"Shell\", LpMinimize)\n",
    "usage_variables = pulp.LpVariable.dicts(\"usage\", (_id for _id in usage_variable_names ), lowBound=0, cat=\"Integer\")\n",
    "purchase_variables = pulp.LpVariable.dicts(\"purchase\", (_id for _id in purchase_objective.keys()) , lowBound=0, cat=\"Integer\")"
   ]
  },
  {
   "cell_type": "markdown",
   "id": "fc8db0d6",
   "metadata": {},
   "source": [
    "#### Minimize Fuel cost"
   ]
  },
  {
   "cell_type": "code",
   "execution_count": 25,
   "id": "e22470ad",
   "metadata": {},
   "outputs": [],
   "source": [
    "objective = []\n",
    "ct = 0\n",
    "emissions_constraint = []\n",
    "for k in fuel_consumption_objective.keys():\n",
    "    details = k.split('_') # vehicle, size, purchase year, usage year, fuel\n",
    "    usage_objective = [usage_variables[v]*fuel_cost[details[3]+'_'+details[4]]*\\\n",
    "                       consumption['_'.join(details[0:3])+'_'+details[4]]*\\\n",
    "                       veh_range['_'.join(details[0:3])]  for v in fuel_consumption_objective[k]]\n",
    "    objective = objective + usage_objective"
   ]
  },
  {
   "cell_type": "markdown",
   "id": "d3f516d7",
   "metadata": {},
   "source": [
    "#### Minimize Full Ownership"
   ]
  },
  {
   "cell_type": "code",
   "execution_count": 26,
   "id": "e01b9cde",
   "metadata": {},
   "outputs": [],
   "source": [
    "objective = objective + [purchase_variables[v]*vehicle_cost[v]  for v in list(purchase_objective.keys())]\n",
    "total_cost += lpSum(x for x in objective)"
   ]
  },
  {
   "cell_type": "markdown",
   "id": "3a7eb229",
   "metadata": {},
   "source": [
    "### Constraints"
   ]
  },
  {
   "cell_type": "markdown",
   "id": "9193159a",
   "metadata": {},
   "source": [
    "#### Demand Constraint\n",
    "The amount used must be less than the amount purchased"
   ]
  },
  {
   "cell_type": "code",
   "execution_count": 27,
   "id": "3f3b012b",
   "metadata": {},
   "outputs": [],
   "source": [
    "for v in purchase_objective.keys():\n",
    "    for by_demand_year in purchase_objective[v]:\n",
    "        total_cost += lpSum(usage_variables[x] for x in by_demand_year) <= purchase_variables[v]"
   ]
  },
  {
   "cell_type": "markdown",
   "id": "027f6f5e",
   "metadata": {},
   "source": [
    "#### Emissions constraint"
   ]
  },
  {
   "cell_type": "code",
   "execution_count": 28,
   "id": "ce12fe5e",
   "metadata": {},
   "outputs": [],
   "source": [
    "for y in years:\n",
    "    \n",
    "    annual_emissions = []\n",
    "    emissions_id = {}\n",
    "    consumption_id = {}\n",
    "    veh_range_id = {}\n",
    "\n",
    "    for u in usage_variables.keys():\n",
    "        d = u.split('_')\n",
    "        if d[4] == str(y):\n",
    "            annual_emissions.append(u)\n",
    "            emissions_id[u] = d[4]+'_'+d[6]\n",
    "            consumption_id[u] = '_'.join(d[0:3])+'_'+d[6]\n",
    "            veh_range_id[u] = '_'.join(d[0:3])\n",
    "\n",
    "    total_cost += lpSum(usage_variables[v]*fuel_emissions[emissions_id[v]]*\\\n",
    "                        consumption[consumption_id[v]]*\\\n",
    "                        veh_range[veh_range_id[v]]  for v in annual_emissions) <= emissions_limit[y]"
   ]
  },
  {
   "cell_type": "markdown",
   "id": "83c78dfa",
   "metadata": {},
   "source": [
    "#### Fuel Risk Constraint"
   ]
  },
  {
   "cell_type": "code",
   "execution_count": 29,
   "id": "5d470d36",
   "metadata": {},
   "outputs": [],
   "source": [
    "fuel_risk_constraint = []\n",
    "for k in fuel_consumption_objective.keys():\n",
    "    details = k.split('_') # vehicle, size, purchase year, usage year, fuel\n",
    "    usage_objective = [usage_variables[v]*fuel_cost[details[3]+'_'+details[4]]*\\\n",
    "                       consumption['_'.join(details[0:3])+'_'+details[4]]*\\\n",
    "                       veh_range['_'.join(details[0:3])]  for v in fuel_consumption_objective[k]]\n",
    "    objective = objective + usage_objective"
   ]
  },
  {
   "cell_type": "code",
   "execution_count": 33,
   "id": "ed850f01",
   "metadata": {},
   "outputs": [
    {
     "name": "stdout",
     "output_type": "stream",
     "text": [
      "1\n",
      "Optimal\n"
     ]
    }
   ],
   "source": [
    "print(total_cost.solve(PULP_CBC_CMD(timeLimit=14400, keepFiles=False, warmStart=True)))\n",
    "print(LpStatus[total_cost.status])"
   ]
  },
  {
   "cell_type": "code",
   "execution_count": null,
   "id": "b837bef9",
   "metadata": {},
   "outputs": [],
   "source": [
    "saved = total_cost.writeMPS('total_cost.mps')"
   ]
  },
  {
   "cell_type": "code",
   "execution_count": null,
   "id": "112bfb44",
   "metadata": {},
   "outputs": [],
   "source": []
  }
 ],
 "metadata": {
  "kernelspec": {
   "display_name": "conda_python3",
   "language": "python",
   "name": "conda_python3"
  },
  "language_info": {
   "codemirror_mode": {
    "name": "ipython",
    "version": 3
   },
   "file_extension": ".py",
   "mimetype": "text/x-python",
   "name": "python",
   "nbconvert_exporter": "python",
   "pygments_lexer": "ipython3",
   "version": "3.10.14"
  }
 },
 "nbformat": 4,
 "nbformat_minor": 5
}
