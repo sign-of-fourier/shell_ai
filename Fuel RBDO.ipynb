{
 "cells": [
  {
   "cell_type": "markdown",
   "id": "a72a598e",
   "metadata": {},
   "source": [
    "## Fuel Uncertainity Risk Management\n",
    "The purpose of this note book is to illustrate how to define fuel price risk as a contraint in an optimization problem."
   ]
  },
  {
   "cell_type": "code",
   "execution_count": 1,
   "id": "25d7194f",
   "metadata": {},
   "outputs": [],
   "source": [
    "import pandas as pd\n",
    "import numpy as np\n",
    "from pulp import *\n",
    "from scipy.stats import multivariate_normal as mn\n",
    "from scipy.stats import norm\n",
    "from scipy import optimize\n",
    "from random import random\n",
    "import time"
   ]
  },
  {
   "cell_type": "code",
   "execution_count": 2,
   "id": "2499341c",
   "metadata": {},
   "outputs": [],
   "source": [
    "path = 'c:\\\\users\\\\mark113\\\\desktop\\\\jupyter\\\\shell\\\\'\n",
    "demand = pd.read_csv(path + 'dataset\\\\demand.csv')\n",
    "fuels = pd.read_csv(path + 'dataset\\\\fuels.csv')\n",
    "cost_profiles = pd.read_csv(path + 'dataset\\\\cost_profiles.csv')\n",
    "vehicles = pd.read_csv(path + 'dataset\\\\vehicles.csv')\n",
    "vehicles_fuels = pd.read_csv(path + 'dataset\\\\vehicles_fuels.csv')\n",
    "carbon_df = pd.read_csv(path + 'dataset\\\\carbon_emissions.csv')"
   ]
  },
  {
   "cell_type": "markdown",
   "id": "f6c987e0",
   "metadata": {},
   "source": [
    "### Convert demand and range to dictionaries\n",
    "In order to be fast, Demand and Range has to be expressed as a vector"
   ]
  },
  {
   "cell_type": "code",
   "execution_count": 3,
   "id": "8edffde2",
   "metadata": {},
   "outputs": [],
   "source": [
    "available_years = []\n",
    "size_map = []\n",
    "distance_map = []\n",
    "fuel_map = []\n",
    "demand_vector = []\n",
    "range_vector = []\n",
    "range_consumption_vector= []\n",
    "fuel_price_vector = []\n",
    "fuel_price_consumption_vector = []\n",
    "vf = vehicles.merge(vehicles_fuels, on='ID')\n",
    "vf = vf.merge(fuels, on=['Fuel', 'Year'])\n",
    "variable_ID = []\n",
    "vehicle_map = []\n",
    "for size in ['S1', 'S2', 'S3', 'S4']:    \n",
    "    for distance in ['D1', 'D2', 'D3', 'D4']:\n",
    "        demand_vector = demand_vector + [int(m) for m in demand[(demand['Distance'] == distance) & (demand['Size']==size)][['Year','Demand (km)']].groupby('Year').sum()['Demand (km)']]\n",
    "        subgroup = vf[(vf['Distance'] == distance) & (vf['Size']==size)]\n",
    "        \n",
    "        available_years = available_years + subgroup['Year'].tolist()\n",
    "        size_map = size_map + [size] * subgroup.shape[0]\n",
    "        distance_map = distance_map + [distance] * subgroup.shape[0]\n",
    "        fuel_map = fuel_map + subgroup['Fuel'].tolist()\n",
    "        vehicle_map = vehicle_map + subgroup['Vehicle'].tolist()\n",
    "\n",
    "        range_vector = range_vector + [int(m) for m in subgroup['Yearly range (km)']]\n",
    "        fuel_price_vector = fuel_price_vector + [cost for cost in subgroup['Cost ($/unit_fuel)']]\n",
    "        fuel_price_consumption_vector = fuel_price_consumption_vector +\\\n",
    "        [cost*consumpt*r for cost, consumpt, r in zip(subgroup['Cost ($/unit_fuel)'], \n",
    "                                                      subgroup['Consumption (unit_fuel/km)'],\n",
    "                                                      subgroup['Yearly range (km)'])]\n",
    "        range_consumption_vector = range_consumption_vector +\\\n",
    "        [consumpt*r for consumpt, r in zip(subgroup['Cost ($/unit_fuel)'], \n",
    "                                                 subgroup['Consumption (unit_fuel/km)'])]"
   ]
  },
  {
   "cell_type": "code",
   "execution_count": 4,
   "id": "695ba563",
   "metadata": {},
   "outputs": [],
   "source": [
    "class check_demand:\n",
    "    def __init__(self, d, r, yr_ndx, size_map, distance_map, fuel_map, vehicle_map):\n",
    "        self.demand_by_size_distance_year = d\n",
    "        self.range_by_size_distance_year_veh = r\n",
    "        self.year_index = yr_ndx\n",
    "        self.size_map = size_map\n",
    "        self.fuel_map = fuel_map\n",
    "        self.distance_map = distance_map\n",
    "        self.vehicle_map = vehicle_map\n",
    "        self.sizes = ['S1', 'S2', 'S3', 'S4']\n",
    "        self.distances = ['D1','D2', 'D3','D4']\n",
    "        \n",
    "    def group_by_veh_fuel(self, plan):\n",
    "\n",
    "        # aggregate by vehicle\n",
    "        supply = {}\n",
    "        for y in years:\n",
    "            supply[y] = {}\n",
    "            for s in self.sizes:\n",
    "                supply[y][s] = {}\n",
    "                for d in self.distances:\n",
    "                    supply[y][s][d] = 0\n",
    "\n",
    "        for i in range(len(plan)):\n",
    "            supply[self.year_index[i]][self.size_map[i]][self.distance_map[i]] += plan[i]*self.range_by_size_distance_year_veh[i]\n",
    "\n",
    "        return [supply[y][s][d] for s in self.sizes for d in self.distances for y in years]\n",
    "    \n",
    "    def verify(self, x):\n",
    "        return -sum([d-max(m, 0) for d, m in zip(self.demand_by_size_distance_year, self.group_by_veh_fuel(x))])\n",
    "\n",
    "class fuel_risk:\n",
    "    \n",
    "    def __init__(self, r, s, pct, range_map, risk_budget, year_map, fuel_map):\n",
    "        self.risk_map = [0]*len(fuel_map)\n",
    "        self.range_map = range_map\n",
    "        BS = {}\n",
    "        for y in years:\n",
    "            BS[y] = {}\n",
    "\n",
    "        for y, f, c in zip(fuels['Year'], fuels['Fuel'], fuels['Cost ($/unit_fuel)']):\n",
    "            t = y - 2023\n",
    "            BS[y][f] = pct*c*mn.pdf(np.log(c)*(1-pct) + (r+s**2/2)*t, 0,1) - c*mn.pdf(np.log(c)*(1-pct) - (r+s**2/2)*t, 0,1) \n",
    "        ct = 0\n",
    "        for y, f in zip(year_map, fuel_map):\n",
    "            self.risk_map[ct] = BS[y][f]\n",
    "            ct += 1\n",
    "        self.risk_budget = risk_budget\n",
    "        \n",
    "    def risk(self, x):\n",
    "        miles = [n*r for n, r in zip(x, self.range_map)]\n",
    "        return -sum([n*b for n, b in zip(miles, self.risk_map)]) + self.risk_budget\n",
    "\n",
    "    \n",
    "class objective_function:\n",
    "    def __init__(self, fuel_prices):\n",
    "        \n",
    "        self.fuel_prices=fuel_prices\n",
    "        \n",
    "    def fuel_cost(self, x):\n",
    "        return sum([c*a for c, a in zip(self.fuel_prices, x)])\n",
    "    "
   ]
  },
  {
   "cell_type": "code",
   "execution_count": 5,
   "id": "b70af72a",
   "metadata": {},
   "outputs": [],
   "source": [
    "max_year = 2038\n",
    "years = [y for y in range(2023, max_year+1)]"
   ]
  },
  {
   "cell_type": "markdown",
   "id": "7070bcba",
   "metadata": {},
   "source": [
    "### For this demo, for simplicity, we just focus on fuel cost uncertainity\n",
    "The risk budget is expressed as a cost $3,500"
   ]
  },
  {
   "cell_type": "code",
   "execution_count": 6,
   "id": "44114fc8",
   "metadata": {},
   "outputs": [],
   "source": [
    "risk_free_short_rate = .05\n",
    "risk_budget = 1000\n",
    "annual_threshold_factor = 2\n",
    "implied_volatility = .05"
   ]
  },
  {
   "cell_type": "code",
   "execution_count": 7,
   "id": "9acdb5db",
   "metadata": {},
   "outputs": [
    {
     "name": "stdout",
     "output_type": "stream",
     "text": [
      "Initial Demand 270938722\n",
      "Initial Risk 202.34618985857162\n"
     ]
    }
   ],
   "source": [
    "n = len(range_vector)\n",
    "x0 = [19]*n\n",
    "demand_constraint = check_demand(demand_vector, range_vector, available_years,\n",
    "                                size_map, distance_map, fuel_map, vehicle_map)\n",
    "of = objective_function(fuel_price_consumption_vector)\n",
    "print(\"Initial Demand {}\".format(demand_constraint.verify(x0)))\n",
    "rbdo_constraint = fuel_risk(risk_free_short_rate, implied_volatility, annual_threshold_factor, range_consumption_vector, \n",
    "                            risk_budget, available_years, fuel_map)\n",
    "print(\"Initial Risk {}\".format(rbdo_constraint.risk(x0)))"
   ]
  },
  {
   "cell_type": "code",
   "execution_count": 10,
   "id": "cd8e5124",
   "metadata": {},
   "outputs": [],
   "source": [
    "solution = optimize.minimize(fun=of.fuel_cost, x0=tuple(x0), tol=.1, method='COBYLA', options={'maxiter':1000},\n",
    "                             bounds=tuple([(0,None)]*len(x0)),\n",
    "                             constraints=({'type': 'ineq', 'fun': rbdo_constraint.risk},\n",
    "                                          {'type': 'ineq', 'fun': demand_constraint.verify}) )"
   ]
  },
  {
   "cell_type": "code",
   "execution_count": 11,
   "id": "b8773f29",
   "metadata": {},
   "outputs": [
    {
     "name": "stdout",
     "output_type": "stream",
     "text": [
      " message: Maximum number of function evaluations has been exceeded.\n",
      " success: False\n",
      "  status: 2\n",
      "     fun: 36994232.56664027\n",
      "       x: [ 2.193e-13  1.678e-13 ...  1.409e+01  3.855e-13]\n",
      "    nfev: 1000\n",
      "   maxcv: 1.3537704944610596e-05\n",
      " cost 36994232.56664027\n",
      " risk 989.7118903248237\n",
      " demand -1.3537704944610596e-05\n"
     ]
    }
   ],
   "source": [
    "print(solution)\n",
    "print(\" cost {}\".format(of.fuel_cost(solution.x)))\n",
    "print(\" risk {}\".format(rbdo_constraint.risk(solution.x)))\n",
    "print(\" demand {}\".format(demand_constraint.verify(solution.x)))"
   ]
  },
  {
   "cell_type": "code",
   "execution_count": null,
   "id": "0c26f413",
   "metadata": {},
   "outputs": [],
   "source": []
  },
  {
   "cell_type": "code",
   "execution_count": null,
   "id": "64631289",
   "metadata": {},
   "outputs": [],
   "source": []
  }
 ],
 "metadata": {
  "kernelspec": {
   "display_name": "Python 3 (ipykernel)",
   "language": "python",
   "name": "python3"
  },
  "language_info": {
   "codemirror_mode": {
    "name": "ipython",
    "version": 3
   },
   "file_extension": ".py",
   "mimetype": "text/x-python",
   "name": "python",
   "nbconvert_exporter": "python",
   "pygments_lexer": "ipython3",
   "version": "3.9.12"
  }
 },
 "nbformat": 4,
 "nbformat_minor": 5
}
