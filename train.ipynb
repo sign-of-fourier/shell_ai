{
 "cells": [
  {
   "cell_type": "code",
   "execution_count": 1,
   "metadata": {
    "collapsed": false,
    "jupyter": {
     "outputs_hidden": false
    },
    "tags": []
   },
   "outputs": [],
   "source": [
    "import torch\n",
    "from torch import nn\n",
    "from torch.utils.data import DataLoader\n",
    "from torchvision import datasets\n",
    "from torchvision.transforms import ToTensor\n",
    "from matplotlib import pyplot as plt\n",
    "from sklearn.model_selection import train_test_split\n",
    "import time\n",
    "import qc\n",
    "import multiprocessing as mp\n",
    "import matplotlib.pyplot as plt\n",
    "import pandas as pd\n"
   ]
  },
  {
   "cell_type": "code",
   "execution_count": 2,
   "metadata": {
    "tags": []
   },
   "outputs": [],
   "source": [
    "p = {'batch_size': .1000,\n",
    "     'n_iterations': 500}\n",
    "\n",
    "arch = torch.nn.Sequential(\n",
    "    torch.nn.Linear(784, 512),\n",
    "    torch.nn.ReLU(),\n",
    "    torch.nn.Linear(512, 512),\n",
    "    torch.nn.ReLU(),\n",
    "    torch.nn.Linear(512, 256),\n",
    "    torch.nn.ReLU(),\n",
    "    torch.nn.Linear(256, 10)\n",
    ")"
   ]
  },
  {
   "cell_type": "code",
   "execution_count": 3,
   "metadata": {
    "collapsed": false,
    "jupyter": {
     "outputs_hidden": false
    },
    "tags": []
   },
   "outputs": [],
   "source": [
    "mp.set_start_method('spawn')"
   ]
  },
  {
   "cell_type": "code",
   "execution_count": 4,
   "metadata": {
    "tags": []
   },
   "outputs": [
    {
     "data": {
      "image/png": "[encoded data removed]",
      "text/plain": [
       "<Figure size 640x480 with 1 Axes>"
      ]
     },
     "metadata": {},
     "output_type": "display_data"
    },
    {
     "name": "stdout",
     "output_type": "stream",
     "text": [
      "34.41 seconds\n"
     ]
    }
   ],
   "source": [
    "if __name__ == \"__main__\":\n",
    "\n",
    "    devices = [{'device': torch.device(\"cuda:0\"),\n",
    "                'arch': arch, 'batch': 0,\n",
    "                'other_parameters': p},\n",
    "               {'device': torch.device(\"cuda:1\"), \n",
    "                'arch': arch, 'batch': 1,\n",
    "                'other_parameters': p},\n",
    "               {'device': torch.device(\"cuda:2\"), \n",
    "                'arch': arch, 'batch': 2,\n",
    "                'other_parameters': p},\n",
    "               {'device': torch.device(\"cuda:3\"), \n",
    "                'arch': arch, 'batch': 3,\n",
    "                'other_parameters': p}]\n",
    "\n",
    "    start = time.time()\n",
    "    p = mp.Pool(processes = 4)\n",
    "    batches = []\n",
    "    for i in range(4):\n",
    "        output = p.map(qc.worker, devices)\n",
    "\n",
    "    for i in range(4):\n",
    "        plt.plot(output[i][0], label='device ' + str(i))\n",
    "\n",
    "    plt.legend()\n",
    "    plt.show()\n",
    "\n",
    "    print(\"{} seconds\".format(round(time.time()-start, 2)))"
   ]
  },
  {
   "cell_type": "code",
   "execution_count": 5,
   "metadata": {
    "tags": []
   },
   "outputs": [
    {
     "name": "stdout",
     "output_type": "stream",
     "text": [
      "0.2549501657485962\n",
      "0.28542783856391907\n",
      "0.290548712015152\n",
      "0.2723209261894226\n"
     ]
    }
   ],
   "source": [
    "for i in range(4):\n",
    "    print(output[i][1])"
   ]
  },
  {
   "cell_type": "code",
   "execution_count": null,
   "metadata": {
    "tags": []
   },
   "outputs": [],
   "source": []
  },
  {
   "cell_type": "code",
   "execution_count": 9,
   "metadata": {
    "tags": []
   },
   "outputs": [
    {
     "name": "stdout",
     "output_type": "stream",
     "text": [
      "0.918\n"
     ]
    }
   ],
   "source": [
    "correct = 0\n",
    "y = pd.read_csv('y_test.csv')\n",
    "for i in range(1000):\n",
    "    sol = output[0][2][i].cpu().numpy()\n",
    "    mx = max(range(len(sol)), key=sol.__getitem__)\n",
    "    correct += y.iloc[i][mx]\n",
    "print(correct/1000)"
   ]
  },
  {
   "cell_type": "code",
   "execution_count": null,
   "metadata": {},
   "outputs": [],
   "source": []
  }
 ],
 "metadata": {
  "kernelspec": {
   "display_name": "conda_pytorch_p310",
   "language": "python",
   "name": "conda_pytorch_p310"
  },
  "language_info": {
   "codemirror_mode": {
    "name": "ipython",
    "version": 3
   },
   "file_extension": ".py",
   "mimetype": "text/x-python",
   "name": "python",
   "nbconvert_exporter": "python",
   "pygments_lexer": "ipython3",
   "version": "3.10.14"
  }
 },
 "nbformat": 4,
 "nbformat_minor": 4
}
